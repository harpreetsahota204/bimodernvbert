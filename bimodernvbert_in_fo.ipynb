{
  "cells": [
    {
      "cell_type": "markdown",
      "metadata": {},
      "source": [
        "# BiModernVBERT in FiftyOne - Quick Start\n",
        "\n",
        "[![Open In Colab](https://colab.research.google.com/assets/colab-badge.svg)](https://colab.research.google.com/github/harpreetsahota204/bimodernvbert/blob/main/bimodernvbert_in_fo.ipynb)\n",
        "\n",
        "This notebook demonstrates how to use BiModernVBERT for document retrieval and zero-shot classification in FiftyOne.\n",
        "\n",
        "**BiModernVBERT** generates 768-dimensional embeddings for images and text in a shared vector space, perfect for:\n",
        "- Document retrieval with text queries\n",
        "- Zero-shot classification\n",
        "- Similarity search\n"
      ]
    },
    {
      "cell_type": "markdown",
      "metadata": {},
      "source": [
        "## Installation\n"
      ]
    },
    {
      "cell_type": "code",
      "execution_count": null,
      "metadata": {},
      "outputs": [],
      "source": [
        "%pip install -q fiftyone torch transformers pillow\n",
        "%pip install -q git+https://github.com/illuin-tech/colpali.git@vbert#egg=colpali-engine\n"
      ]
    },
    {
      "cell_type": "markdown",
      "metadata": {},
      "source": [
        "## Setup\n"
      ]
    },
    {
      "cell_type": "code",
      "execution_count": null,
      "metadata": {},
      "outputs": [],
      "source": [
        "import fiftyone as fo\n",
        "import fiftyone.zoo as foz\n",
        "import fiftyone.brain as fob\n",
        "from fiftyone.utils.huggingface import load_from_hub\n",
        "\n",
        "# Register BiModernVBERT as a zoo model\n",
        "foz.register_zoo_model_source(\n",
        "    \"https://github.com/harpreetsahota204/bimodernvbert\",\n",
        "    overwrite=True\n",
        ")\n",
        "\n",
        "print(\"✓ Setup complete\")\n"
      ]
    },
    {
      "cell_type": "markdown",
      "metadata": {},
      "source": [
        "## Load Dataset\n",
        "\n",
        "We'll use a sample document dataset from Hugging Face:\n"
      ]
    },
    {
      "cell_type": "code",
      "execution_count": null,
      "metadata": {},
      "outputs": [],
      "source": [
        "# Load document dataset (250 samples for quick demo)\n",
        "dataset = load_from_hub(\n",
        "    \"Voxel51/document-haystack-10pages\",\n",
        "    overwrite=True,\n",
        "    max_samples=250\n",
        ")\n",
        "\n",
        "print(f\"Loaded {len(dataset)} samples\")\n",
        "print(dataset)\n"
      ]
    },
    {
      "cell_type": "markdown",
      "metadata": {},
      "source": [
        "## Document Retrieval with Text Queries\n"
      ]
    },
    {
      "cell_type": "code",
      "execution_count": null,
      "metadata": {},
      "outputs": [],
      "source": [
        "# Load model\n",
        "model = foz.load_zoo_model(\"ModernVBERT/bimodernvbert\")\n",
        "\n",
        "# Compute embeddings for all documents\n",
        "dataset.compute_embeddings(\n",
        "    model=model,\n",
        "    embeddings_field=\"bimodernvbert_embeddings\"\n",
        ")\n",
        "\n",
        "# Verify embedding shape\n",
        "print(f\"Embedding shape: {dataset.first()['bimodernvbert_embeddings'].shape}\")\n"
      ]
    },
    {
      "cell_type": "code",
      "execution_count": null,
      "metadata": {},
      "outputs": [],
      "source": [
        "# Build similarity index\n",
        "text_img_index = fob.compute_similarity(\n",
        "    dataset,\n",
        "    model=\"ModernVBERT/bimodernvbert\",\n",
        "    embeddings_field=\"bimodernvbert_embeddings\",\n",
        "    brain_key=\"bimodernvbert_sim\"\n",
        ")\n",
        "\n",
        "print(\"✓ Similarity index created\")\n"
      ]
    },
    {
      "cell_type": "code",
      "execution_count": null,
      "metadata": {},
      "outputs": [],
      "source": [
        "# Query for specific content\n",
        "results = text_img_index.sort_by_similarity(\n",
        "    \"invoice from 2024\",\n",
        "    k=10\n",
        ")\n",
        "\n",
        "print(f\"Found {len(results)} matching documents\")\n"
      ]
    },
    {
      "cell_type": "code",
      "execution_count": null,
      "metadata": {},
      "outputs": [],
      "source": [
        "# Launch FiftyOne App to explore results\n",
        "session = fo.launch_app(results, auto=False)\n"
      ]
    },
    {
      "cell_type": "markdown",
      "metadata": {},
      "source": [
        "## Zero-Shot Document Classification\n"
      ]
    },
    {
      "cell_type": "code",
      "execution_count": null,
      "metadata": {},
      "outputs": [],
      "source": [
        "# Load model with classification classes\n",
        "model = foz.load_zoo_model(\n",
        "    \"ModernVBERT/bimodernvbert\",\n",
        "    classes=[\"invoice\", \"receipt\", \"form\", \"contract\", \"other\"],\n",
        "    text_prompt=\"This document is a\"\n",
        ")\n",
        "\n",
        "# Apply zero-shot classification\n",
        "dataset.apply_model(\n",
        "    model,\n",
        "    label_field=\"document_type\"\n",
        ")\n",
        "\n",
        "print(\"✓ Classification complete\")\n"
      ]
    },
    {
      "cell_type": "code",
      "execution_count": null,
      "metadata": {},
      "outputs": [],
      "source": [
        "# View classification results\n",
        "print(dataset.first()['document_type'])\n",
        "\n",
        "# Count predictions by class\n",
        "print(\"\\nPrediction distribution:\")\n",
        "print(dataset.count_values(\"document_type.label\"))\n"
      ]
    },
    {
      "cell_type": "code",
      "execution_count": null,
      "metadata": {},
      "outputs": [],
      "source": [
        "# Explore classifications in the App\n",
        "session = fo.launch_app(dataset, auto=False)\n"
      ]
    },
    {
      "cell_type": "markdown",
      "metadata": {},
      "source": [
        "## Visualize Embeddings with UMAP\n",
        "\n",
        "Create interactive 2D visualizations to explore document relationships:\n"
      ]
    },
    {
      "cell_type": "code",
      "execution_count": null,
      "metadata": {},
      "outputs": [],
      "source": [
        "# Create UMAP visualization\n",
        "results = fob.compute_visualization(\n",
        "    dataset,\n",
        "    method=\"umap\",  # Also supports \"tsne\", \"pca\"\n",
        "    brain_key=\"bimodernvbert_viz\",\n",
        "    embeddings=\"bimodernvbert_embeddings\",\n",
        "    num_dims=2\n",
        ")\n",
        "\n",
        "print(\"✓ UMAP visualization created\")\n"
      ]
    },
    {
      "cell_type": "code",
      "execution_count": null,
      "metadata": {},
      "outputs": [],
      "source": [
        "# Open the App and explore the visualization in the embeddings panel\n",
        "session = fo.launch_app(dataset, auto=False)\n"
      ]
    },
    {
      "cell_type": "markdown",
      "metadata": {},
      "source": [
        "## Multiple Query Searches\n"
      ]
    },
    {
      "cell_type": "code",
      "execution_count": null,
      "metadata": {},
      "outputs": [],
      "source": [
        "# Try different queries\n",
        "queries = [\n",
        "    \"financial report with charts\",\n",
        "    \"contract agreement\",\n",
        "    \"form with checkboxes\"\n",
        "]\n",
        "\n",
        "for query in queries:\n",
        "    results = text_img_index.sort_by_similarity(query, k=5)\n",
        "    print(f\"\\nQuery: '{query}'\")\n",
        "    print(f\"Found {len(results)} results\")\n"
      ]
    },
    {
      "cell_type": "markdown",
      "metadata": {},
      "source": [
        "## Next Steps\n",
        "\n",
        "Explore more advanced features:\n",
        "- **UMAP Visualization**: `fob.compute_visualization(dataset, embeddings=\"bimodernvbert_embeddings\")`\n",
        "- **Duplicate Detection**: `fob.compute_uniqueness(dataset, embeddings=\"bimodernvbert_embeddings\")`\n",
        "- **Dynamic Classification**: Change `model.classes` and `model.text_prompt` for different tasks\n",
        "\n",
        "📚 Full documentation: [github.com/harpreetsahota204/bimodernvbert](https://github.com/harpreetsahota204/bimodernvbert)\n"
      ]
    }
  ],
  "metadata": {
    "language_info": {
      "name": "python"
    }
  },
  "nbformat": 4,
  "nbformat_minor": 2
}
